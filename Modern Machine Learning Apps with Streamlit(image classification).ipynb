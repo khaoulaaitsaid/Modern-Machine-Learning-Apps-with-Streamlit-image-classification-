{
 "cells": [
  {
   "cell_type": "code",
   "execution_count": 1,
   "id": "ceb83fe1-0d0c-4765-b4db-db0cd426939b",
   "metadata": {},
   "outputs": [],
   "source": [
    "# Importation de bibliothèques\n",
    "import numpy as np  # Pour manipuler des tableaux et effectuer des opérations mathématiques\n",
    "import matplotlib.pyplot as plt  # Pour créer des visualisations graphiques\n",
    "import streamlit as st  # Pour créer des applications web interactives\n",
    "import tensorflow as tf  # Pour travailler avec des modèles d'apprentissage automatique\n",
    "\n",
    "from PIL import Image  # Bibliothèque Python Imaging Library pour manipuler des images\n",
    "\n",
    "# Importation de modules spécifiques de TensorFlow\n",
    "from tensorflow.keras.datasets import cifar10  # Un ensemble de données d'images utilisé fréquemment\n",
    "from tensorflow.keras.models import Sequential  # Pour créer un modèle séquentiel\n",
    "from tensorflow.keras.layers import Flatten, Dense  # Pour créer des couches de réseau neuronal\n",
    "from tensorflow.keras.utils import to_categorical  # Pour convertir des étiquettes en format one-hot\n"
   ]
  },
  {
   "cell_type": "code",
   "execution_count": 2,
   "id": "e4d2c5ee-50ec-4e52-b237-06abab86ba16",
   "metadata": {},
   "outputs": [],
   "source": [
    "(x_train, y_train), (x_test, y_test) = cifar10.load_data()\n",
    "x_train = x_train / 255\n",
    "x_test = x_test / 255\n",
    "\n",
    "y_train = to_categorical(y_train, 10)\n",
    "y_test = to_categorical(y_test, 10)"
   ]
  },
  {
   "cell_type": "code",
   "execution_count": 3,
   "id": "8e8c6dea-fe01-4a15-a88a-f2acfac83801",
   "metadata": {},
   "outputs": [
    {
     "name": "stdout",
     "output_type": "stream",
     "text": [
      "Epoch 1/10\n",
      "782/782 [==============================] - 67s 79ms/step - loss: 1.9219 - accuracy: 0.3286 - val_loss: 1.7467 - val_accuracy: 0.3839\n",
      "Epoch 2/10\n",
      "782/782 [==============================] - 50s 64ms/step - loss: 1.6853 - accuracy: 0.4012 - val_loss: 1.6298 - val_accuracy: 0.4292\n",
      "Epoch 3/10\n",
      "782/782 [==============================] - 50s 64ms/step - loss: 1.6141 - accuracy: 0.4279 - val_loss: 1.5989 - val_accuracy: 0.4318\n",
      "Epoch 4/10\n",
      "782/782 [==============================] - 50s 64ms/step - loss: 1.5626 - accuracy: 0.4460 - val_loss: 1.5692 - val_accuracy: 0.4449\n",
      "Epoch 5/10\n",
      "782/782 [==============================] - 50s 64ms/step - loss: 1.5269 - accuracy: 0.4589 - val_loss: 1.5078 - val_accuracy: 0.4675\n",
      "Epoch 6/10\n",
      "782/782 [==============================] - 51s 65ms/step - loss: 1.4950 - accuracy: 0.4713 - val_loss: 1.5006 - val_accuracy: 0.4654\n",
      "Epoch 7/10\n",
      "782/782 [==============================] - 53s 67ms/step - loss: 1.4773 - accuracy: 0.4760 - val_loss: 1.5151 - val_accuracy: 0.4613\n",
      "Epoch 8/10\n",
      "782/782 [==============================] - 52s 66ms/step - loss: 1.4486 - accuracy: 0.4864 - val_loss: 1.5104 - val_accuracy: 0.4732\n",
      "Epoch 9/10\n",
      "782/782 [==============================] - 52s 66ms/step - loss: 1.4271 - accuracy: 0.4928 - val_loss: 1.4952 - val_accuracy: 0.4737\n",
      "Epoch 10/10\n",
      "782/782 [==============================] - 52s 66ms/step - loss: 1.4100 - accuracy: 0.5024 - val_loss: 1.4723 - val_accuracy: 0.4737\n"
     ]
    },
    {
     "name": "stderr",
     "output_type": "stream",
     "text": [
      "C:\\Users\\FUJITSU\\AppData\\Roaming\\Python\\Python311\\site-packages\\keras\\src\\engine\\training.py:3000: UserWarning: You are saving your model as an HDF5 file via `model.save()`. This file format is considered legacy. We recommend using instead the native Keras format, e.g. `model.save('my_model.keras')`.\n",
      "  saving_api.save_model(\n"
     ]
    }
   ],
   "source": [
    "#build the model\n",
    "model = Sequential([\n",
    "    Flatten(input_shape=(32, 32, 3)),\n",
    "    Dense(1000, activation='relu'),\n",
    "    Dense(10, activation='softmax')\n",
    "])\n",
    "model.compile(optimizer='adam', loss='categorical_crossentropy', metrics=['accuracy'])\n",
    "model.fit(x_train, y_train, batch_size=64, epochs=10, validation_data=(x_test, y_test))\n",
    "model.save(\"cifar10_model.h5\")"
   ]
  },
  {
   "cell_type": "code",
   "execution_count": 5,
   "id": "51192962-6805-4840-acbd-0a99c119b999",
   "metadata": {},
   "outputs": [
    {
     "name": "stderr",
     "output_type": "stream",
     "text": [
      "2023-11-19 11:24:28.179 \n",
      "  \u001b[33m\u001b[1mWarning:\u001b[0m to view this Streamlit app on a browser, run it with the following\n",
      "  command:\n",
      "\n",
      "    streamlit run C:\\Users\\FUJITSU\\AppData\\Roaming\\Python\\Python311\\site-packages\\ipykernel_launcher.py [ARGUMENTS]\n"
     ]
    }
   ],
   "source": [
    "#build the Streamlit application arround the model\n",
    "def main():\n",
    "    st.title(\"cifar10 Web Classifier\")\n",
    "    st.write(\"Upload any image that you think fits into one of the classes and see if the prediction is correct\")\n",
    "    file = st.file_uploader(\"Please upload an image\", type=[\"jpg\", \"png\"])\n",
    "    if file:\n",
    "        image = Image.open(file)\n",
    "        st.image(image, use_column_width=True)  # Affichage de l'image sur l'interface utilisateur\n",
    "        resized_image = image.resize((32, 32))\n",
    "        img_array = np.array(resized_image) / 255\n",
    "        img_array = img_array.reshape((1, 32, 32, 3))  #1: cad 1 image\n",
    "        model = tf.keras.models.load_model(\"cifar10_model.h5\")\n",
    "        predictions = model.predict(img_array) \n",
    "        cifar10_classes = [\"airplane\", \"automobile\", \"bird\", \"cat\", \"deer\", \"dog\",\"frog\", \"horse\", \"ship\",\"truck\"]\n",
    "        \n",
    "#matplotlib design\n",
    "        fig, ax = plt.subplots()\n",
    "        y_pos = np.arange(len(cifar10_classes))\n",
    "        ax.barh(y_pos, predictions[0], align=\"center\")\n",
    "        ax.set_yticks(y_pos)\n",
    "        ax.set_yticklabels(cifar10_classes)\n",
    "        ax.invert_yaxis()\n",
    "        ax.set_xlabel(\"Probability\")\n",
    "        ax.set_title(\"CIFAR10 Prediction\")\n",
    "\n",
    "        st.pyplot(fig)\n",
    "    else:\n",
    "        st.text(\"You have not uploaded an image\")\n",
    "if __name__ == '__main__':\n",
    "    main()"
   ]
  },
  {
   "cell_type": "code",
   "execution_count": null,
   "id": "8f181519-e092-47c0-9869-f851f2d319c4",
   "metadata": {},
   "outputs": [],
   "source": []
  }
 ],
 "metadata": {
  "kernelspec": {
   "display_name": "Python 3 (ipykernel)",
   "language": "python",
   "name": "python3"
  },
  "language_info": {
   "codemirror_mode": {
    "name": "ipython",
    "version": 3
   },
   "file_extension": ".py",
   "mimetype": "text/x-python",
   "name": "python",
   "nbconvert_exporter": "python",
   "pygments_lexer": "ipython3",
   "version": "3.11.3"
  }
 },
 "nbformat": 4,
 "nbformat_minor": 5
}
